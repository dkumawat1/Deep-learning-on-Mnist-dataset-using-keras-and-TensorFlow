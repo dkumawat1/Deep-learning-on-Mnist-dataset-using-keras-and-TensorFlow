{
 "cells": [
  {
   "cell_type": "code",
   "execution_count": 1,
   "metadata": {},
   "outputs": [
    {
     "name": "stderr",
     "output_type": "stream",
     "text": [
      "C:\\Program Files (x86)\\Microsoft Visual Studio\\Shared\\Anaconda3_64\\lib\\site-packages\\h5py\\__init__.py:36: FutureWarning: Conversion of the second argument of issubdtype from `float` to `np.floating` is deprecated. In future, it will be treated as `np.float64 == np.dtype(float).type`.\n",
      "  from ._conv import register_converters as _register_converters\n"
     ]
    },
    {
     "data": {
      "text/plain": [
       "'1.10.0'"
      ]
     },
     "execution_count": 1,
     "metadata": {},
     "output_type": "execute_result"
    }
   ],
   "source": [
    "import tensorflow as tf\n",
    "\n",
    "tf.__version__"
   ]
  },
  {
   "cell_type": "code",
   "execution_count": 2,
   "metadata": {},
   "outputs": [
    {
     "name": "stdout",
     "output_type": "stream",
     "text": [
      "Epoch 1/20\n",
      "60000/60000 [==============================] - 6s 97us/step - loss: 0.2617 - acc: 0.9240\n",
      "Epoch 2/20\n",
      "60000/60000 [==============================] - 5s 91us/step - loss: 0.1076 - acc: 0.9673\n",
      "Epoch 3/20\n",
      "60000/60000 [==============================] - 5s 92us/step - loss: 0.0732 - acc: 0.9768\n",
      "Epoch 4/20\n",
      "60000/60000 [==============================] - 5s 91us/step - loss: 0.0539 - acc: 0.9827\n",
      "Epoch 5/20\n",
      "60000/60000 [==============================] - 6s 93us/step - loss: 0.0420 - acc: 0.9868\n",
      "Epoch 6/20\n",
      "60000/60000 [==============================] - 6s 95us/step - loss: 0.0326 - acc: 0.9894\n",
      "Epoch 7/20\n",
      "60000/60000 [==============================] - 6s 94us/step - loss: 0.0254 - acc: 0.9918\n",
      "Epoch 8/20\n",
      "60000/60000 [==============================] - 6s 96us/step - loss: 0.0219 - acc: 0.9926\n",
      "Epoch 9/20\n",
      "60000/60000 [==============================] - 6s 96us/step - loss: 0.0203 - acc: 0.9930\n",
      "Epoch 10/20\n",
      "60000/60000 [==============================] - 6s 93us/step - loss: 0.0178 - acc: 0.9940\n",
      "Epoch 11/20\n",
      "60000/60000 [==============================] - 6s 95us/step - loss: 0.0152 - acc: 0.9948\n",
      "Epoch 12/20\n",
      "60000/60000 [==============================] - 6s 95us/step - loss: 0.0125 - acc: 0.9957\n",
      "Epoch 13/20\n",
      "60000/60000 [==============================] - 6s 95us/step - loss: 0.0132 - acc: 0.9958\n",
      "Epoch 14/20\n",
      "60000/60000 [==============================] - 6s 96us/step - loss: 0.0115 - acc: 0.9962\n",
      "Epoch 15/20\n",
      "60000/60000 [==============================] - 6s 94us/step - loss: 0.0092 - acc: 0.9972\n",
      "Epoch 16/20\n",
      "60000/60000 [==============================] - 5s 90us/step - loss: 0.0106 - acc: 0.9968\n",
      "Epoch 17/20\n",
      "60000/60000 [==============================] - 5s 90us/step - loss: 0.0103 - acc: 0.9967\n",
      "Epoch 18/20\n",
      "60000/60000 [==============================] - 5s 87us/step - loss: 0.0086 - acc: 0.9974\n",
      "Epoch 19/20\n",
      "60000/60000 [==============================] - 5s 88us/step - loss: 0.0078 - acc: 0.9976\n",
      "Epoch 20/20\n",
      "60000/60000 [==============================] - 5s 89us/step - loss: 0.0073 - acc: 0.9978\n"
     ]
    },
    {
     "data": {
      "text/plain": [
       "<tensorflow.python.keras.callbacks.History at 0x1ae4aca3e80>"
      ]
     },
     "execution_count": 2,
     "metadata": {},
     "output_type": "execute_result"
    }
   ],
   "source": [
    "mnist = tf.keras.datasets.mnist\n",
    "\n",
    "(x_train, y_train), (x_test, y_test) = mnist.load_data()\n",
    "\n",
    "x_train = tf.keras.utils.normalize(x_train, axis = 1)\n",
    "x_test = tf.keras.utils.normalize(x_test, axis = 1)\n",
    "\n",
    "model = tf.keras.models.Sequential()\n",
    "model.add(tf.keras.layers.Flatten())\n",
    "model.add(tf.keras.layers.Dense(128, activation = tf.nn.relu))\n",
    "model.add(tf.keras.layers.Dense(128, activation = tf.nn.relu))\n",
    "model.add(tf.keras.layers.Dense(10, activation = tf.nn.softmax))\n",
    "\n",
    "model.compile(optimizer= 'adam',\n",
    "             loss = 'sparse_categorical_crossentropy',\n",
    "             metrics = ['accuracy'])\n",
    "\n",
    "model.fit(x_train, y_train, epochs = 20)"
   ]
  },
  {
   "cell_type": "code",
   "execution_count": 5,
   "metadata": {},
   "outputs": [
    {
     "name": "stdout",
     "output_type": "stream",
     "text": [
      "10000/10000 [==============================] - 0s 34us/step\n",
      "0.1332474178370725 0.9756\n"
     ]
    }
   ],
   "source": [
    "val_loss, val_acc = model.evaluate(x_test,y_test)\n",
    "print(val_loss, val_acc)"
   ]
  },
  {
   "cell_type": "code",
   "execution_count": 6,
   "metadata": {},
   "outputs": [],
   "source": [
    "model.save(\"dinesh_first_keras_model\")"
   ]
  },
  {
   "cell_type": "code",
   "execution_count": 7,
   "metadata": {},
   "outputs": [],
   "source": [
    "new_model = tf.keras.models.load_model(\"dinesh_first_keras_model\")"
   ]
  },
  {
   "cell_type": "code",
   "execution_count": 10,
   "metadata": {},
   "outputs": [],
   "source": [
    "predictions = new_model.predict([x_test])"
   ]
  },
  {
   "cell_type": "code",
   "execution_count": 11,
   "metadata": {},
   "outputs": [
    {
     "name": "stdout",
     "output_type": "stream",
     "text": [
      "[[1.6074438e-27 4.4428672e-20 6.3161295e-20 ... 1.0000000e+00\n",
      "  1.0163154e-19 5.2082392e-15]\n",
      " [3.2772647e-20 8.9648150e-12 1.0000000e+00 ... 5.7380847e-19\n",
      "  2.3371752e-20 6.3259370e-37]\n",
      " [1.7098603e-14 9.9999988e-01 7.4523698e-10 ... 1.2276060e-07\n",
      "  4.3837114e-11 1.2173533e-13]\n",
      " ...\n",
      " [8.8086212e-24 1.6722428e-19 2.5904143e-20 ... 1.0284393e-14\n",
      "  5.9826987e-15 1.0497476e-11]\n",
      " [4.7148707e-20 1.6497022e-23 4.8298276e-21 ... 2.6989703e-15\n",
      "  1.0786414e-12 1.6550176e-21]\n",
      " [6.1894437e-23 9.4765708e-20 2.3580840e-22 ... 2.1718069e-28\n",
      "  5.3702071e-22 2.7759099e-27]]\n"
     ]
    }
   ],
   "source": [
    "print(predictions)"
   ]
  },
  {
   "cell_type": "code",
   "execution_count": 20,
   "metadata": {},
   "outputs": [
    {
     "name": "stdout",
     "output_type": "stream",
     "text": [
      "2\n"
     ]
    }
   ],
   "source": [
    "import numpy as np\n",
    "import matplotlib.pyplot as plt\n",
    "\n",
    "print(np.argmax(predictions[400]))"
   ]
  },
  {
   "cell_type": "code",
   "execution_count": 21,
   "metadata": {},
   "outputs": [
    {
     "data": {
      "image/png": "[encoded data removed]",
      "text/plain": [
       "<matplotlib.figure.Figure at 0x1ae6b47b128>"
      ]
     },
     "metadata": {},
     "output_type": "display_data"
    }
   ],
   "source": [
    "plt.imshow(x_test[400])\n",
    "plt.show()"
   ]
  },
  {
   "cell_type": "code",
   "execution_count": null,
   "metadata": {},
   "outputs": [],
   "source": []
  }
 ],
 "metadata": {
  "kernelspec": {
   "display_name": "Python 3",
   "language": "python",
   "name": "python3"
  },
  "language_info": {
   "codemirror_mode": {
    "name": "ipython",
    "version": 3
   },
   "file_extension": ".py",
   "mimetype": "text/x-python",
   "name": "python",
   "nbconvert_exporter": "python",
   "pygments_lexer": "ipython3",
   "version": "3.6.4"
  }
 },
 "nbformat": 4,
 "nbformat_minor": 2
}
